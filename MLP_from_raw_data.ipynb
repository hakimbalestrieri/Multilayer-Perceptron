{
  "cells": [
    {
      "cell_type": "markdown",
      "metadata": {
        "id": "WQneqljXRkty"
      },
      "source": [
        "# Multilayer Perceptron from raw data\n",
        "This notebook will guide you through the use of the `keras` package to train a multilayer perceptron for handwritten digits classification. You are going to use the `mnist` dataset from LeCun et al. 1998"
      ]
    },
    {
      "cell_type": "markdown",
      "metadata": {
        "id": "IIL4GfGhRktz"
      },
      "source": [
        "## Loading the packages"
      ]
    },
    {
      "cell_type": "code",
      "execution_count": 1,
      "metadata": {
        "id": "7mPrqyu6Rktz"
      },
      "outputs": [],
      "source": [
        "import numpy as np\n",
        "from matplotlib import pyplot as pl\n",
        "\n",
        "import tensorflow as tf\n",
        "from tensorflow import keras as keras\n",
        "from sklearn import metrics as me\n",
        "\n",
        "%matplotlib inline"
      ]
    },
    {
      "cell_type": "markdown",
      "metadata": {
        "id": "sl18xJZaRkt0"
      },
      "source": [
        "## Using raw data to train a MLP\n",
        "### First load the `mnist` dataset and normalize it to be in the range [0, 1]"
      ]
    },
    {
      "cell_type": "code",
      "execution_count": 2,
      "metadata": {
        "colab": {
          "base_uri": "https://localhost:8080/"
        },
        "id": "bkVbsnGSRkt0",
        "outputId": "a54cbc00-f7ff-4683-a08c-d4d783a2348a"
      },
      "outputs": [
        {
          "output_type": "stream",
          "name": "stdout",
          "text": [
            "Downloading data from https://storage.googleapis.com/tensorflow/tf-keras-datasets/mnist.npz\n",
            "11493376/11490434 [==============================] - 0s 0us/step\n",
            "11501568/11490434 [==============================] - 0s 0us/step\n",
            "60000 train samples\n",
            "10000 test samples\n"
          ]
        }
      ],
      "source": [
        "(X_train, y_train), (X_test, y_test) = keras.datasets.mnist.load_data()\n",
        "\n",
        "X_train = X_train.reshape(60000, 784)\n",
        "X_test = X_test.reshape(10000, 784)\n",
        "X_train = X_train.astype('float32')\n",
        "X_test = X_test.astype('float32')\n",
        "X_train /= 255.0\n",
        "X_test /= 255.0\n",
        "print(X_train.shape[0], 'train samples')\n",
        "print(X_test.shape[0], 'test samples')\n",
        "\n",
        "n_classes = 10\n",
        "# convert class vectors to binary class matrices\n",
        "Y_train = keras.utils.to_categorical(y_train, n_classes)\n",
        "Y_test = keras.utils.to_categorical(y_test, n_classes)"
      ]
    },
    {
      "cell_type": "markdown",
      "metadata": {
        "id": "J7o1NwqkRkt0"
      },
      "source": [
        "### Create the MLP (sequential API)"
      ]
    },
    {
      "cell_type": "code",
      "execution_count": 33,
      "metadata": {
        "colab": {
          "base_uri": "https://localhost:8080/"
        },
        "id": "0KA8yINwRkt0",
        "outputId": "04e75c92-227c-490d-9828-058dda148c85"
      },
      "outputs": [
        {
          "output_type": "stream",
          "name": "stdout",
          "text": [
            "Model: \"sequential_12\"\n",
            "_________________________________________________________________\n",
            " Layer (type)                Output Shape              Param #   \n",
            "=================================================================\n",
            " dense_23 (Dense)            (None, 50)                39250     \n",
            "                                                                 \n",
            " dense_24 (Dense)            (None, 10)                510       \n",
            "                                                                 \n",
            "=================================================================\n",
            "Total params: 39,760\n",
            "Trainable params: 39,760\n",
            "Non-trainable params: 0\n",
            "_________________________________________________________________\n"
          ]
        }
      ],
      "source": [
        "model = keras.models.Sequential()\n",
        "model.add(keras.layers.Dense(50, input_shape=(784,), activation='relu'))\n",
        "#model.add(keras.layers.Dropout(0.5))\n",
        "model.add(keras.layers.Dense(n_classes, activation='softmax'))\n",
        "\n",
        "model.summary()"
      ]
    },
    {
      "cell_type": "markdown",
      "metadata": {
        "id": "mb0uDBx6Rkt1"
      },
      "source": [
        "### Define some constants and train the MLP"
      ]
    },
    {
      "cell_type": "code",
      "execution_count": 34,
      "metadata": {
        "colab": {
          "base_uri": "https://localhost:8080/"
        },
        "id": "cksMaq6ORkt1",
        "outputId": "66fbe2f8-db8b-490b-9b4e-57093d2db9f6"
      },
      "outputs": [
        {
          "output_type": "stream",
          "name": "stdout",
          "text": [
            "Epoch 1/20\n",
            "469/469 [==============================] - 2s 4ms/step - loss: 1.2110 - accuracy: 0.6924 - val_loss: 0.6902 - val_accuracy: 0.8394\n",
            "Epoch 2/20\n",
            "469/469 [==============================] - 2s 3ms/step - loss: 0.5869 - accuracy: 0.8550 - val_loss: 0.4817 - val_accuracy: 0.8790\n",
            "Epoch 3/20\n",
            "469/469 [==============================] - 2s 3ms/step - loss: 0.4612 - accuracy: 0.8795 - val_loss: 0.4076 - val_accuracy: 0.8924\n",
            "Epoch 4/20\n",
            "469/469 [==============================] - 2s 3ms/step - loss: 0.4059 - accuracy: 0.8906 - val_loss: 0.3686 - val_accuracy: 0.9009\n",
            "Epoch 5/20\n",
            "469/469 [==============================] - 2s 3ms/step - loss: 0.3734 - accuracy: 0.8975 - val_loss: 0.3440 - val_accuracy: 0.9055\n",
            "Epoch 6/20\n",
            "469/469 [==============================] - 2s 3ms/step - loss: 0.3512 - accuracy: 0.9026 - val_loss: 0.3262 - val_accuracy: 0.9091\n",
            "Epoch 7/20\n",
            "469/469 [==============================] - 2s 3ms/step - loss: 0.3347 - accuracy: 0.9067 - val_loss: 0.3126 - val_accuracy: 0.9132\n",
            "Epoch 8/20\n",
            "469/469 [==============================] - 2s 3ms/step - loss: 0.3217 - accuracy: 0.9099 - val_loss: 0.3021 - val_accuracy: 0.9154\n",
            "Epoch 9/20\n",
            "469/469 [==============================] - 2s 3ms/step - loss: 0.3106 - accuracy: 0.9125 - val_loss: 0.2932 - val_accuracy: 0.9175\n",
            "Epoch 10/20\n",
            "469/469 [==============================] - 2s 3ms/step - loss: 0.3010 - accuracy: 0.9155 - val_loss: 0.2843 - val_accuracy: 0.9199\n",
            "Epoch 11/20\n",
            "469/469 [==============================] - 1s 3ms/step - loss: 0.2924 - accuracy: 0.9172 - val_loss: 0.2769 - val_accuracy: 0.9229\n",
            "Epoch 12/20\n",
            "469/469 [==============================] - 2s 3ms/step - loss: 0.2846 - accuracy: 0.9199 - val_loss: 0.2707 - val_accuracy: 0.9240\n",
            "Epoch 13/20\n",
            "469/469 [==============================] - 2s 3ms/step - loss: 0.2775 - accuracy: 0.9218 - val_loss: 0.2652 - val_accuracy: 0.9246\n",
            "Epoch 14/20\n",
            "469/469 [==============================] - 2s 3ms/step - loss: 0.2708 - accuracy: 0.9235 - val_loss: 0.2592 - val_accuracy: 0.9270\n",
            "Epoch 15/20\n",
            "469/469 [==============================] - 2s 4ms/step - loss: 0.2646 - accuracy: 0.9246 - val_loss: 0.2532 - val_accuracy: 0.9276\n",
            "Epoch 16/20\n",
            "469/469 [==============================] - 2s 4ms/step - loss: 0.2588 - accuracy: 0.9264 - val_loss: 0.2493 - val_accuracy: 0.9295\n",
            "Epoch 17/20\n",
            "469/469 [==============================] - 2s 3ms/step - loss: 0.2533 - accuracy: 0.9279 - val_loss: 0.2435 - val_accuracy: 0.9300\n",
            "Epoch 18/20\n",
            "469/469 [==============================] - 2s 3ms/step - loss: 0.2482 - accuracy: 0.9297 - val_loss: 0.2390 - val_accuracy: 0.9320\n",
            "Epoch 19/20\n",
            "469/469 [==============================] - 2s 3ms/step - loss: 0.2432 - accuracy: 0.9313 - val_loss: 0.2344 - val_accuracy: 0.9335\n",
            "Epoch 20/20\n",
            "469/469 [==============================] - 1s 3ms/step - loss: 0.2383 - accuracy: 0.9327 - val_loss: 0.2305 - val_accuracy: 0.9328\n"
          ]
        }
      ],
      "source": [
        "batch_size = 128\n",
        "n_epoch = 20\n",
        "\n",
        "model.compile(loss='categorical_crossentropy', optimizer=keras.optimizers.SGD(), metrics=['accuracy'])\n",
        "history = model.fit(X_train, Y_train,\n",
        "                    batch_size=batch_size, epochs=n_epoch,\n",
        "                    verbose=1, validation_data=(X_test, Y_test))"
      ]
    },
    {
      "cell_type": "markdown",
      "metadata": {
        "id": "Zewbesb4Rkt1"
      },
      "source": [
        "### Show the performance of the model"
      ]
    },
    {
      "cell_type": "code",
      "execution_count": 35,
      "metadata": {
        "colab": {
          "base_uri": "https://localhost:8080/",
          "height": 355
        },
        "id": "QrAsN40CRkt1",
        "outputId": "a41f1338-d0eb-4180-c794-1f74e655213b"
      },
      "outputs": [
        {
          "output_type": "stream",
          "name": "stdout",
          "text": [
            "Test score: 0.23047666251659393\n",
            "Test accuracy: 0.9327999949455261\n"
          ]
        },
        {
          "output_type": "display_data",
          "data": {
            "text/plain": [
              "<Figure size 1152x360 with 1 Axes>"
            ],
            "image/png": "[encoded data removed]"
          },
          "metadata": {
            "needs_background": "light"
          }
        }
      ],
      "source": [
        "pl.figure(figsize=(16,5))\n",
        "pl.plot(history.history['loss'], label='Training')\n",
        "pl.plot(history.history['val_loss'], label='Validation')\n",
        "pl.legend()\n",
        "pl.grid()\n",
        "\n",
        "score = model.evaluate(X_test, Y_test, verbose=0)\n",
        "print('Test score:', score[0])\n",
        "print('Test accuracy:', score[1])"
      ]
    },
    {
      "cell_type": "markdown",
      "metadata": {
        "id": "IYUGVo-tRkt2"
      },
      "source": [
        "### Confusion matrix"
      ]
    },
    {
      "cell_type": "code",
      "execution_count": 32,
      "metadata": {
        "colab": {
          "base_uri": "https://localhost:8080/"
        },
        "id": "cqCzfBxvRkt2",
        "outputId": "93317147-d3d1-456c-ebe7-5ba7f4dc994b"
      },
      "outputs": [
        {
          "output_type": "execute_result",
          "data": {
            "text/plain": [
              "array([[ 960,    0,    1,    1,    0,    3,    9,    1,    5,    0],\n",
              "       [   0, 1109,    4,    2,    0,    0,    3,    2,   15,    0],\n",
              "       [  11,    2,  941,    9,   15,    1,   11,   16,   26,    0],\n",
              "       [   2,    0,   18,  920,    0,   31,    2,   17,   18,    2],\n",
              "       [   1,    2,    2,    1,  925,    0,   16,    2,    3,   30],\n",
              "       [   9,    2,    8,   34,    8,  781,   10,    5,   27,    8],\n",
              "       [  11,    3,    4,    0,    8,   10,  916,    1,    5,    0],\n",
              "       [   3,   13,   23,    5,    7,    0,    0,  952,    1,   24],\n",
              "       [   6,    9,    8,   17,   10,   26,   12,   13,  867,    6],\n",
              "       [  10,    7,    2,   11,   42,   10,    1,   21,    7,  898]])"
            ]
          },
          "metadata": {},
          "execution_count": 32
        }
      ],
      "source": [
        "pred = np.argmax(model.predict(X_test), axis=-1)\n",
        "me.confusion_matrix(y_test, pred)"
      ]
    },
    {
      "cell_type": "code",
      "execution_count": null,
      "metadata": {
        "id": "G6OAWX5WRkt2"
      },
      "outputs": [],
      "source": [
        ""
      ]
    }
  ],
  "metadata": {
    "kernelspec": {
      "display_name": "Python 3 (ipykernel)",
      "language": "python",
      "name": "python3"
    },
    "language_info": {
      "codemirror_mode": {
        "name": "ipython",
        "version": 3
      },
      "file_extension": ".py",
      "mimetype": "text/x-python",
      "name": "python",
      "nbconvert_exporter": "python",
      "pygments_lexer": "ipython3",
      "version": "3.7.11"
    },
    "colab": {
      "name": "MLP_from_raw_data.ipynb",
      "provenance": []
    }
  },
  "nbformat": 4,
  "nbformat_minor": 0
}